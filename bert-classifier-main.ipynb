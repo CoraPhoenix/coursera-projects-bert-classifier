{
 "cells": [
  {
   "cell_type": "markdown",
   "metadata": {
    "id": "zGCJYkQj_Uu2"
   },
   "source": [
    "<h2 align=center> Fine-Tune BERT for Text Classification with TensorFlow</h2>"
   ]
  },
  {
   "cell_type": "markdown",
   "metadata": {
    "id": "4y2m1S6e12il"
   },
   "source": [
    "<div align=\"center\">\n",
    "    <img width=\"512px\" src='https://drive.google.com/uc?id=1fnJTeJs5HUpz7nix-F9E6EZdgUflqyEu' />\n",
    "    <p style=\"text-align: center;color:gray\">Figure 1: BERT Classification Model</p>\n",
    "</div>"
   ]
  },
  {
   "cell_type": "markdown",
   "metadata": {
    "id": "eYYYWqWr_WCC"
   },
   "source": [
    "In this [project](https://www.coursera.org/projects/fine-tune-bert-tensorflow/), you will learn how to fine-tune a BERT model for text classification using TensorFlow and TF-Hub."
   ]
  },
  {
   "cell_type": "markdown",
   "metadata": {
    "id": "5yQG5PCO_WFx"
   },
   "source": [
    "The pretrained BERT model used in this project is [available](https://tfhub.dev/tensorflow/bert_en_uncased_L-12_H-768_A-12/2) on [TensorFlow Hub](https://tfhub.dev/)."
   ]
  },
  {
   "cell_type": "markdown",
   "metadata": {
    "id": "7pKNS21u_WJo"
   },
   "source": [
    "### Learning Objectives"
   ]
  },
  {
   "cell_type": "markdown",
   "metadata": {
    "id": "_3NHSMXv_WMv"
   },
   "source": [
    "By the time you complete this project, you will be able to:\n",
    "\n",
    "- Build TensorFlow Input Pipelines for Text Data with the [`tf.data`](https://www.tensorflow.org/api_docs/python/tf/data) API\n",
    "- Tokenize and Preprocess Text for BERT\n",
    "- Fine-tune BERT for text classification with TensorFlow 2 and [TF Hub](https://tfhub.dev)"
   ]
  },
  {
   "cell_type": "markdown",
   "metadata": {
    "id": "o6BEe-3-AVRQ"
   },
   "source": [
    "### Prerequisites"
   ]
  },
  {
   "cell_type": "markdown",
   "metadata": {
    "id": "Sc9f-8rLAVUS"
   },
   "source": [
    "In order to be successful with this project, it is assumed you are:\n",
    "\n",
    "- Competent in the Python programming language\n",
    "- Familiar with deep learning for Natural Language Processing (NLP)\n",
    "- Familiar with TensorFlow, and its Keras API"
   ]
  },
  {
   "cell_type": "markdown",
   "metadata": {
    "id": "MYXXV5n3Ab-4"
   },
   "source": [
    "### Contents"
   ]
  },
  {
   "cell_type": "markdown",
   "metadata": {
    "id": "XhK-SYGyAjxe"
   },
   "source": [
    "This project/notebook consists of several Tasks.\n",
    "\n",
    "- **[Task 1]()**: Introduction to the Project.\n",
    "- **[Task 2]()**: Setup your TensorFlow and Colab Runtime\n",
    "- **[Task 3]()**: Download and Import the Quora Insincere Questions Dataset\n",
    "- **[Task 4]()**: Create tf.data.Datasets for Training and Evaluation\n",
    "- **[Task 5]()**: Download a Pre-trained BERT Model from TensorFlow Hub\n",
    "- **[Task 6]()**: Tokenize and Preprocess Text for BERT\n",
    "- **[Task 7]()**: Wrap a Python Function into a TensorFlow op for Eager Execution\n",
    "- **[Task 8]()**: Create a TensorFlow Input Pipeline with `tf.data`\n",
    "- **[Task 9]()**: Add a Classification Head to the BERT `hub.KerasLayer`\n",
    "- **[Task 10]()**: Fine-Tune BERT for Text Classification\n",
    "- **[Task 11]()**: Evaluate the BERT Text Classification Model"
   ]
  },
  {
   "cell_type": "markdown",
   "metadata": {
    "id": "IaArqXjRAcBa"
   },
   "source": [
    "## Task 2: Setup your TensorFlow and Colab Runtime."
   ]
  },
  {
   "cell_type": "markdown",
   "metadata": {
    "id": "GDDhjzZ5A4Q_"
   },
   "source": [
    "You will only be able to use the Colab Notebook after you save it to your Google Drive folder. Click on the File menu and select “Save a copy in Drive…\n",
    "\n",
    "![Copy to Drive](https://drive.google.com/uc?id=1CH3eDmuJL8WR0AP1r3UE6sOPuqq8_Wl7)\n"
   ]
  },
  {
   "cell_type": "markdown",
   "metadata": {
    "id": "mpe6GhLuBJWB"
   },
   "source": [
    "### Check GPU Availability\n",
    "\n",
    "Check if your Colab notebook is configured to use Graphical Processing Units (GPUs). If zero GPUs are available, check if the Colab notebook is configured to use GPUs (Menu > Runtime > Change Runtime Type).\n",
    "\n",
    "![Hardware Accelerator Settings](https://drive.google.com/uc?id=1qrihuuMtvzXJHiRV8M7RngbxFYipXKQx)\n"
   ]
  },
  {
   "cell_type": "code",
   "execution_count": 1,
   "metadata": {
    "colab": {
     "base_uri": "https://localhost:8080/"
    },
    "executionInfo": {
     "elapsed": 155,
     "status": "ok",
     "timestamp": 1711499115767,
     "user": {
      "displayName": "Christopher Camilo",
      "userId": "03470589241533550422"
     },
     "user_tz": 0
    },
    "id": "8V9c8vzSL3aj",
    "outputId": "0c1572b1-efce-48eb-e5f9-bc0f9f29f5fe"
   },
   "outputs": [
    {
     "name": "stdout",
     "output_type": "stream",
     "text": [
      "Wed Mar 27 00:25:15 2024       \n",
      "+---------------------------------------------------------------------------------------+\n",
      "| NVIDIA-SMI 535.104.05             Driver Version: 535.104.05   CUDA Version: 12.2     |\n",
      "|-----------------------------------------+----------------------+----------------------+\n",
      "| GPU  Name                 Persistence-M | Bus-Id        Disp.A | Volatile Uncorr. ECC |\n",
      "| Fan  Temp   Perf          Pwr:Usage/Cap |         Memory-Usage | GPU-Util  Compute M. |\n",
      "|                                         |                      |               MIG M. |\n",
      "|=========================================+======================+======================|\n",
      "|   0  Tesla T4                       Off | 00000000:00:04.0 Off |                    0 |\n",
      "| N/A   34C    P8               9W /  70W |      0MiB / 15360MiB |      0%      Default |\n",
      "|                                         |                      |                  N/A |\n",
      "+-----------------------------------------+----------------------+----------------------+\n",
      "                                                                                         \n",
      "+---------------------------------------------------------------------------------------+\n",
      "| Processes:                                                                            |\n",
      "|  GPU   GI   CI        PID   Type   Process name                            GPU Memory |\n",
      "|        ID   ID                                                             Usage      |\n",
      "|=======================================================================================|\n",
      "|  No running processes found                                                           |\n",
      "+---------------------------------------------------------------------------------------+\n"
     ]
    }
   ],
   "source": [
    "!nvidia-smi"
   ]
  },
  {
   "cell_type": "markdown",
   "metadata": {
    "id": "Obch3rAuBVf0"
   },
   "source": [
    "### Install TensorFlow and TensorFlow Model Garden"
   ]
  },
  {
   "cell_type": "code",
   "execution_count": 2,
   "metadata": {
    "colab": {
     "base_uri": "https://localhost:8080/"
    },
    "executionInfo": {
     "elapsed": 3169,
     "status": "ok",
     "timestamp": 1711499194140,
     "user": {
      "displayName": "Christopher Camilo",
      "userId": "03470589241533550422"
     },
     "user_tz": 0
    },
    "id": "bUQEY3dFB0jX",
    "outputId": "7b99f527-1ccd-4c5a-e75b-c57c2743870b"
   },
   "outputs": [
    {
     "name": "stdout",
     "output_type": "stream",
     "text": [
      "2.15.0\n"
     ]
    }
   ],
   "source": [
    "import tensorflow as tf\n",
    "print(tf.version.VERSION)"
   ]
  },
  {
   "cell_type": "code",
   "execution_count": null,
   "metadata": {
    "id": "aU3YLZ1TYKUt"
   },
   "outputs": [],
   "source": [
    "!pip install -q tensorflow==2.3.0"
   ]
  },
  {
   "cell_type": "code",
   "execution_count": 3,
   "metadata": {
    "colab": {
     "base_uri": "https://localhost:8080/"
    },
    "executionInfo": {
     "elapsed": 2566,
     "status": "ok",
     "timestamp": 1711499200656,
     "user": {
      "displayName": "Christopher Camilo",
      "userId": "03470589241533550422"
     },
     "user_tz": 0
    },
    "id": "AFRTC-zwUy6D",
    "outputId": "a18eb257-989d-424a-8164-9a1cd63df9ab"
   },
   "outputs": [
    {
     "name": "stdout",
     "output_type": "stream",
     "text": [
      "Cloning into 'models'...\n",
      "remote: Enumerating objects: 2375, done.\u001b[K\n",
      "remote: Counting objects: 100% (2375/2375), done.\u001b[K\n",
      "remote: Compressing objects: 100% (1760/1760), done.\u001b[K\n",
      "remote: Total 2375 (delta 752), reused 1014 (delta 574), pack-reused 0\u001b[K\n",
      "Receiving objects: 100% (2375/2375), 18.66 MiB | 25.31 MiB/s, done.\n",
      "Resolving deltas: 100% (752/752), done.\n",
      "Note: switching to '2a00ddbb0bfc857da946c1780bbd65eb662c2119'.\n",
      "\n",
      "You are in 'detached HEAD' state. You can look around, make experimental\n",
      "changes and commit them, and you can discard any commits you make in this\n",
      "state without impacting any branches by switching back to a branch.\n",
      "\n",
      "If you want to create a new branch to retain commits you create, you may\n",
      "do so (now or later) by using -c with the switch command. Example:\n",
      "\n",
      "  git switch -c <new-branch-name>\n",
      "\n",
      "Or undo this operation with:\n",
      "\n",
      "  git switch -\n",
      "\n",
      "Turn off this advice by setting config variable advice.detachedHead to false\n",
      "\n"
     ]
    }
   ],
   "source": [
    "!git clone --depth 1 -b v2.15.0 https://github.com/tensorflow/models.git"
   ]
  },
  {
   "cell_type": "code",
   "execution_count": 4,
   "metadata": {
    "colab": {
     "base_uri": "https://localhost:8080/"
    },
    "executionInfo": {
     "elapsed": 68492,
     "status": "ok",
     "timestamp": 1711499273969,
     "user": {
      "displayName": "Christopher Camilo",
      "userId": "03470589241533550422"
     },
     "user_tz": 0
    },
    "id": "3H2G0571zLLs",
    "outputId": "b9daca57-32ef-4487-f8a1-971bbbe1eb83"
   },
   "outputs": [
    {
     "name": "stdout",
     "output_type": "stream",
     "text": [
      "\u001b[2K     \u001b[90m━━━━━━━━━━━━━━━━━━━━━━━━━━━━━━━━━━━━━━━━\u001b[0m \u001b[32m12.4/12.4 MB\u001b[0m \u001b[31m9.6 MB/s\u001b[0m eta \u001b[36m0:00:00\u001b[0m\n",
      "\u001b[2K     \u001b[90m━━━━━━━━━━━━━━━━━━━━━━━━━━━━━━━━━━━━━━━━\u001b[0m \u001b[32m84.6/84.6 kB\u001b[0m \u001b[31m7.7 MB/s\u001b[0m eta \u001b[36m0:00:00\u001b[0m\n",
      "\u001b[?25h  Preparing metadata (setup.py) ... \u001b[?25l\u001b[?25hdone\n",
      "\u001b[2K     \u001b[90m━━━━━━━━━━━━━━━━━━━━━━━━━━━━━━━━━━━━━━━━\u001b[0m \u001b[32m18.2/18.2 MB\u001b[0m \u001b[31m10.9 MB/s\u001b[0m eta \u001b[36m0:00:00\u001b[0m\n",
      "\u001b[2K     \u001b[90m━━━━━━━━━━━━━━━━━━━━━━━━━━━━━━━━━━━━━━━━\u001b[0m \u001b[32m13.0/13.0 MB\u001b[0m \u001b[31m6.9 MB/s\u001b[0m eta \u001b[36m0:00:00\u001b[0m\n",
      "\u001b[2K     \u001b[90m━━━━━━━━━━━━━━━━━━━━━━━━━━━━━━━━━━━━━━━━\u001b[0m \u001b[32m288.2/288.2 kB\u001b[0m \u001b[31m6.5 MB/s\u001b[0m eta \u001b[36m0:00:00\u001b[0m\n",
      "\u001b[2K     \u001b[90m━━━━━━━━━━━━━━━━━━━━━━━━━━━━━━━━━━━━━━━━\u001b[0m \u001b[32m38.4/38.4 MB\u001b[0m \u001b[31m2.7 MB/s\u001b[0m eta \u001b[36m0:00:00\u001b[0m\n",
      "\u001b[2K     \u001b[90m━━━━━━━━━━━━━━━━━━━━━━━━━━━━━━━━━━━━━━━━\u001b[0m \u001b[32m242.5/242.5 kB\u001b[0m \u001b[31m3.5 MB/s\u001b[0m eta \u001b[36m0:00:00\u001b[0m\n",
      "\u001b[2K     \u001b[90m━━━━━━━━━━━━━━━━━━━━━━━━━━━━━━━━━━━━━━━━\u001b[0m \u001b[32m11.6/11.6 MB\u001b[0m \u001b[31m2.6 MB/s\u001b[0m eta \u001b[36m0:00:00\u001b[0m\n",
      "\u001b[2K     \u001b[90m━━━━━━━━━━━━━━━━━━━━━━━━━━━━━━━━━━━━━━━━\u001b[0m \u001b[32m4.5/4.5 MB\u001b[0m \u001b[31m2.4 MB/s\u001b[0m eta \u001b[36m0:00:00\u001b[0m\n",
      "\u001b[2K     \u001b[90m━━━━━━━━━━━━━━━━━━━━━━━━━━━━━━━━━━━━━━━━\u001b[0m \u001b[32m43.6/43.6 kB\u001b[0m \u001b[31m2.4 MB/s\u001b[0m eta \u001b[36m0:00:00\u001b[0m\n",
      "\u001b[?25h  Preparing metadata (setup.py) ... \u001b[?25l\u001b[?25hdone\n",
      "\u001b[2K     \u001b[90m━━━━━━━━━━━━━━━━━━━━━━━━━━━━━━━━━━━━━━━━\u001b[0m \u001b[32m1.3/1.3 MB\u001b[0m \u001b[31m3.0 MB/s\u001b[0m eta \u001b[36m0:00:00\u001b[0m\n",
      "\u001b[2K     \u001b[90m━━━━━━━━━━━━━━━━━━━━━━━━━━━━━━━━━━━━━━━━\u001b[0m \u001b[32m106.6/106.6 kB\u001b[0m \u001b[31m3.2 MB/s\u001b[0m eta \u001b[36m0:00:00\u001b[0m\n",
      "\u001b[2K     \u001b[90m━━━━━━━━━━━━━━━━━━━━━━━━━━━━━━━━━━━━━━━━\u001b[0m \u001b[32m345.4/345.4 kB\u001b[0m \u001b[31m3.0 MB/s\u001b[0m eta \u001b[36m0:00:00\u001b[0m\n",
      "\u001b[?25h  Building wheel for kaggle (setup.py) ... \u001b[?25l\u001b[?25hdone\n",
      "  Building wheel for seqeval (setup.py) ... \u001b[?25l\u001b[?25hdone\n",
      "\u001b[31mERROR: pip's dependency resolver does not currently take into account all the packages that are installed. This behaviour is the source of the following dependency conflicts.\n",
      "bigframes 0.26.0 requires pandas<2.1.4,>=1.5.0, but you have pandas 2.2.1 which is incompatible.\n",
      "google-colab 1.0.0 requires pandas==1.5.3, but you have pandas 2.2.1 which is incompatible.\n",
      "imageio 2.31.6 requires pillow<10.1.0,>=8.3.2, but you have pillow 10.2.0 which is incompatible.\u001b[0m\u001b[31m\n",
      "\u001b[0m"
     ]
    }
   ],
   "source": [
    "# install requirements to use tensorflow/models repository\n",
    "!pip install -Uqr models/official/requirements.txt\n",
    "# you may have to restart the runtime afterwards"
   ]
  },
  {
   "cell_type": "markdown",
   "metadata": {
    "id": "GVjksk4yCXur"
   },
   "source": [
    "## Restart the Runtime\n",
    "\n",
    "**Note**\n",
    "After installing the required Python packages, you'll need to restart the Colab Runtime Engine (Menu > Runtime > Restart runtime...)\n",
    "\n",
    "![Restart of the Colab Runtime Engine](https://drive.google.com/uc?id=1xnjAy2sxIymKhydkqb0RKzgVK9rh3teH)"
   ]
  },
  {
   "cell_type": "markdown",
   "metadata": {
    "id": "IMsEoT3Fg4Wg"
   },
   "source": [
    "## Task 3: Download and Import the Quora Insincere Questions Dataset"
   ]
  },
  {
   "cell_type": "code",
   "execution_count": 1,
   "metadata": {
    "executionInfo": {
     "elapsed": 4916,
     "status": "ok",
     "timestamp": 1711499317382,
     "user": {
      "displayName": "Christopher Camilo",
      "userId": "03470589241533550422"
     },
     "user_tz": 0
    },
    "id": "GmqEylyFYTdP"
   },
   "outputs": [],
   "source": [
    "import numpy as np\n",
    "import tensorflow as tf\n",
    "import tensorflow_hub as hub\n",
    "import sys\n",
    "sys.path.append('models')\n",
    "from official.nlp.data import classifier_data_lib\n",
    "from official.nlp.tools import tokenization\n",
    "from official.nlp import optimization"
   ]
  },
  {
   "cell_type": "code",
   "execution_count": 2,
   "metadata": {
    "colab": {
     "base_uri": "https://localhost:8080/"
    },
    "executionInfo": {
     "elapsed": 367,
     "status": "ok",
     "timestamp": 1711499555133,
     "user": {
      "displayName": "Christopher Camilo",
      "userId": "03470589241533550422"
     },
     "user_tz": 0
    },
    "id": "rUuJ1UNRUggQ",
    "outputId": "f918bdb0-da4f-47a7-dfb0-ac74f00d74a0"
   },
   "outputs": [
    {
     "name": "stdout",
     "output_type": "stream",
     "text": [
      "['utils', 'modeling', 'recommendation', 'nlp', '__pycache__', 'legacy', 'README.md', '__init__.py', 'projects', 'pip_package', 'benchmark', 'README-TPU.md', 'requirements.txt', 'core', 'vision', 'common', 'nightly_requirements.txt']\n"
     ]
    }
   ],
   "source": [
    "# import official.nlp\n",
    "import os\n",
    "print(os.listdir(\"/content/models/official\"))"
   ]
  },
  {
   "cell_type": "code",
   "execution_count": 3,
   "metadata": {
    "colab": {
     "base_uri": "https://localhost:8080/"
    },
    "executionInfo": {
     "elapsed": 146,
     "status": "ok",
     "timestamp": 1711499586494,
     "user": {
      "displayName": "Christopher Camilo",
      "userId": "03470589241533550422"
     },
     "user_tz": 0
    },
    "id": "4Res4qq8UsVA",
    "outputId": "73fe1821-a887-476f-94d8-956e7ab29e1e"
   },
   "outputs": [
    {
     "name": "stdout",
     "output_type": "stream",
     "text": [
      "['export_tfhub_lib_test.py', 'tokenization_test.py', '__pycache__', 'export_tfhub_lib.py', 'tf2_albert_encoder_checkpoint_converter.py', '__init__.py', 'tf2_bert_encoder_checkpoint_converter.py', 'export_tfhub.py', 'squad_evaluate_v1_1.py', 'tf1_bert_checkpoint_converter_lib.py', 'tokenization.py', 'squad_evaluate_v2_0.py']\n"
     ]
    }
   ],
   "source": [
    "print(os.listdir(\"/content/models/official/nlp/tools\"))"
   ]
  },
  {
   "cell_type": "code",
   "execution_count": 4,
   "metadata": {
    "colab": {
     "base_uri": "https://localhost:8080/"
    },
    "executionInfo": {
     "elapsed": 131,
     "status": "ok",
     "timestamp": 1711499595242,
     "user": {
      "displayName": "Christopher Camilo",
      "userId": "03470589241533550422"
     },
     "user_tz": 0
    },
    "id": "ZuX1lB8pPJ-W",
    "outputId": "315b96e3-0dc4-4cc5-e9cb-ce02b12699fb"
   },
   "outputs": [
    {
     "name": "stdout",
     "output_type": "stream",
     "text": [
      "TF Version:  2.15.0\n",
      "Eager mode:  True\n",
      "Hub version:  0.16.1\n",
      "GPU is available\n"
     ]
    }
   ],
   "source": [
    "print(\"TF Version: \", tf.__version__)\n",
    "print(\"Eager mode: \", tf.executing_eagerly())\n",
    "print(\"Hub version: \", hub.__version__)\n",
    "print(\"GPU is\", \"available\" if tf.config.experimental.list_physical_devices(\"GPU\") else \"NOT AVAILABLE\")"
   ]
  },
  {
   "cell_type": "markdown",
   "metadata": {
    "id": "QtbwpWgyEZg7"
   },
   "source": [
    "A downloadable copy of the [Quora Insincere Questions Classification data](https://www.kaggle.com/c/quora-insincere-questions-classification/data) can be found [https://archive.org/download/fine-tune-bert-tensorflow-train.csv/train.csv.zip](https://archive.org/download/fine-tune-bert-tensorflow-train.csv/train.csv.zip). Decompress and read the data into a pandas DataFrame."
   ]
  },
  {
   "cell_type": "code",
   "execution_count": 5,
   "metadata": {
    "executionInfo": {
     "elapsed": 836,
     "status": "ok",
     "timestamp": 1711499732387,
     "user": {
      "displayName": "Christopher Camilo",
      "userId": "03470589241533550422"
     },
     "user_tz": 0
    },
    "id": "0nI-9itVwCCQ"
   },
   "outputs": [],
   "source": [
    "import numpy as np\n",
    "import pandas as pd\n",
    "from sklearn.model_selection import train_test_split\n",
    "\n"
   ]
  },
  {
   "cell_type": "code",
   "execution_count": 7,
   "metadata": {
    "colab": {
     "base_uri": "https://localhost:8080/"
    },
    "executionInfo": {
     "elapsed": 258836,
     "status": "ok",
     "timestamp": 1711500000927,
     "user": {
      "displayName": "Christopher Camilo",
      "userId": "03470589241533550422"
     },
     "user_tz": 0
    },
    "id": "yeHE98KiMvDd",
    "outputId": "c67c6a72-2d2e-4395-a32a-f0f31835caf5"
   },
   "outputs": [
    {
     "data": {
      "text/plain": [
       "(1306122, 3)"
      ]
     },
     "execution_count": 7,
     "metadata": {},
     "output_type": "execute_result"
    }
   ],
   "source": [
    "# Load dataset from link and unzip it\n",
    "\n",
    "data_df = pd.read_csv(\"https://archive.org/download/fine-tune-bert-tensorflow-train.csv/train.csv.zip\",\n",
    "                      compression = \"zip\", low_memory = False)\n",
    "\n",
    "data_df.shape"
   ]
  },
  {
   "cell_type": "code",
   "execution_count": 8,
   "metadata": {
    "colab": {
     "base_uri": "https://localhost:8080/",
     "height": 677
    },
    "executionInfo": {
     "elapsed": 121,
     "status": "ok",
     "timestamp": 1711500007638,
     "user": {
      "displayName": "Christopher Camilo",
      "userId": "03470589241533550422"
     },
     "user_tz": 0
    },
    "id": "5RnTmf_CVGlF",
    "outputId": "dcb087d4-d500-41da-eb4f-e85206dc679f"
   },
   "outputs": [
    {
     "data": {
      "application/vnd.google.colaboratory.intrinsic+json": {
       "summary": "{\n  \"name\": \"data_df\",\n  \"rows\": 20,\n  \"fields\": [\n    {\n      \"column\": \"qid\",\n      \"properties\": {\n        \"dtype\": \"string\",\n        \"num_unique_values\": 20,\n        \"samples\": [\n          \"ffff3778790af9baae76\",\n          \"ffffd48fb36b63db010c\",\n          \"ffffcc4e2331aaf1e41e\"\n        ],\n        \"semantic_type\": \"\",\n        \"description\": \"\"\n      }\n    },\n    {\n      \"column\": \"question_text\",\n      \"properties\": {\n        \"dtype\": \"string\",\n        \"num_unique_values\": 20,\n        \"samples\": [\n          \"What steps can I take to live a normal life if I suffer from social anxiety? I am unable to obtain a job b/c I shut down during interviews. My mind goes completely blank and I am unable to form complete sentences. I\\u2019ve struggled with this all my life\",\n          \"Is foam insulation toxic?\",\n          \"What other technical skills do you need as a computer science undergrad other than c and c++?\"\n        ],\n        \"semantic_type\": \"\",\n        \"description\": \"\"\n      }\n    },\n    {\n      \"column\": \"target\",\n      \"properties\": {\n        \"dtype\": \"number\",\n        \"std\": 0,\n        \"min\": 0,\n        \"max\": 1,\n        \"num_unique_values\": 2,\n        \"samples\": [\n          1,\n          0\n        ],\n        \"semantic_type\": \"\",\n        \"description\": \"\"\n      }\n    }\n  ]\n}",
       "type": "dataframe"
      },
      "text/html": [
       "\n",
       "  <div id=\"df-6fc02133-54d4-42ee-9360-535c67d099e0\" class=\"colab-df-container\">\n",
       "    <div>\n",
       "<style scoped>\n",
       "    .dataframe tbody tr th:only-of-type {\n",
       "        vertical-align: middle;\n",
       "    }\n",
       "\n",
       "    .dataframe tbody tr th {\n",
       "        vertical-align: top;\n",
       "    }\n",
       "\n",
       "    .dataframe thead th {\n",
       "        text-align: right;\n",
       "    }\n",
       "</style>\n",
       "<table border=\"1\" class=\"dataframe\">\n",
       "  <thead>\n",
       "    <tr style=\"text-align: right;\">\n",
       "      <th></th>\n",
       "      <th>qid</th>\n",
       "      <th>question_text</th>\n",
       "      <th>target</th>\n",
       "    </tr>\n",
       "  </thead>\n",
       "  <tbody>\n",
       "    <tr>\n",
       "      <th>1306102</th>\n",
       "      <td>ffff3778790af9baae76</td>\n",
       "      <td>What steps can I take to live a normal life if...</td>\n",
       "      <td>0</td>\n",
       "    </tr>\n",
       "    <tr>\n",
       "      <th>1306103</th>\n",
       "      <td>ffff3f0a2449ffe4b9ff</td>\n",
       "      <td>Isn't Trump right after all? Why should the US...</td>\n",
       "      <td>1</td>\n",
       "    </tr>\n",
       "    <tr>\n",
       "      <th>1306104</th>\n",
       "      <td>ffff41393389d4206066</td>\n",
       "      <td>Is 33 too late for a career in creative advert...</td>\n",
       "      <td>0</td>\n",
       "    </tr>\n",
       "    <tr>\n",
       "      <th>1306105</th>\n",
       "      <td>ffff42493fc203cd9532</td>\n",
       "      <td>What is difference between the filteration wor...</td>\n",
       "      <td>0</td>\n",
       "    </tr>\n",
       "    <tr>\n",
       "      <th>1306106</th>\n",
       "      <td>ffff48dd47bee89fff79</td>\n",
       "      <td>If the universe \"popped\" into existence from n...</td>\n",
       "      <td>0</td>\n",
       "    </tr>\n",
       "    <tr>\n",
       "      <th>1306107</th>\n",
       "      <td>ffff5fd051a032f32a39</td>\n",
       "      <td>How does a shared service technology team meas...</td>\n",
       "      <td>0</td>\n",
       "    </tr>\n",
       "    <tr>\n",
       "      <th>1306108</th>\n",
       "      <td>ffff6d528040d3888b93</td>\n",
       "      <td>How is DSATM civil engineering?</td>\n",
       "      <td>0</td>\n",
       "    </tr>\n",
       "    <tr>\n",
       "      <th>1306109</th>\n",
       "      <td>ffff8776cd30cdc8d7f8</td>\n",
       "      <td>Do you know any problem that depends solely on...</td>\n",
       "      <td>0</td>\n",
       "    </tr>\n",
       "    <tr>\n",
       "      <th>1306110</th>\n",
       "      <td>ffff94d427ade3716cd1</td>\n",
       "      <td>What are some comic ideas for you Tube videos ...</td>\n",
       "      <td>0</td>\n",
       "    </tr>\n",
       "    <tr>\n",
       "      <th>1306111</th>\n",
       "      <td>ffffa382c58368071dc9</td>\n",
       "      <td>If you had $10 million of Bitcoin, could you s...</td>\n",
       "      <td>0</td>\n",
       "    </tr>\n",
       "    <tr>\n",
       "      <th>1306112</th>\n",
       "      <td>ffffa5b0fa76431c063f</td>\n",
       "      <td>Are you ashamed of being an Indian?</td>\n",
       "      <td>1</td>\n",
       "    </tr>\n",
       "    <tr>\n",
       "      <th>1306113</th>\n",
       "      <td>ffffae5dbda3dc9e9771</td>\n",
       "      <td>What are the methods to determine fossil ages ...</td>\n",
       "      <td>0</td>\n",
       "    </tr>\n",
       "    <tr>\n",
       "      <th>1306114</th>\n",
       "      <td>ffffba7c4888798571c1</td>\n",
       "      <td>What is your story today?</td>\n",
       "      <td>0</td>\n",
       "    </tr>\n",
       "    <tr>\n",
       "      <th>1306115</th>\n",
       "      <td>ffffc0c7158658a06fd9</td>\n",
       "      <td>How do I consume 150 gms protein daily both ve...</td>\n",
       "      <td>0</td>\n",
       "    </tr>\n",
       "    <tr>\n",
       "      <th>1306116</th>\n",
       "      <td>ffffc404da586ac5a08f</td>\n",
       "      <td>What are the good career options for a msc che...</td>\n",
       "      <td>0</td>\n",
       "    </tr>\n",
       "    <tr>\n",
       "      <th>1306117</th>\n",
       "      <td>ffffcc4e2331aaf1e41e</td>\n",
       "      <td>What other technical skills do you need as a c...</td>\n",
       "      <td>0</td>\n",
       "    </tr>\n",
       "    <tr>\n",
       "      <th>1306118</th>\n",
       "      <td>ffffd431801e5a2f4861</td>\n",
       "      <td>Does MS in ECE have good job prospects in USA ...</td>\n",
       "      <td>0</td>\n",
       "    </tr>\n",
       "    <tr>\n",
       "      <th>1306119</th>\n",
       "      <td>ffffd48fb36b63db010c</td>\n",
       "      <td>Is foam insulation toxic?</td>\n",
       "      <td>0</td>\n",
       "    </tr>\n",
       "    <tr>\n",
       "      <th>1306120</th>\n",
       "      <td>ffffec519fa37cf60c78</td>\n",
       "      <td>How can one start a research project based on ...</td>\n",
       "      <td>0</td>\n",
       "    </tr>\n",
       "    <tr>\n",
       "      <th>1306121</th>\n",
       "      <td>ffffed09fedb5088744a</td>\n",
       "      <td>Who wins in a battle between a Wolverine and a...</td>\n",
       "      <td>0</td>\n",
       "    </tr>\n",
       "  </tbody>\n",
       "</table>\n",
       "</div>\n",
       "    <div class=\"colab-df-buttons\">\n",
       "\n",
       "  <div class=\"colab-df-container\">\n",
       "    <button class=\"colab-df-convert\" onclick=\"convertToInteractive('df-6fc02133-54d4-42ee-9360-535c67d099e0')\"\n",
       "            title=\"Convert this dataframe to an interactive table.\"\n",
       "            style=\"display:none;\">\n",
       "\n",
       "  <svg xmlns=\"http://www.w3.org/2000/svg\" height=\"24px\" viewBox=\"0 -960 960 960\">\n",
       "    <path d=\"M120-120v-720h720v720H120Zm60-500h600v-160H180v160Zm220 220h160v-160H400v160Zm0 220h160v-160H400v160ZM180-400h160v-160H180v160Zm440 0h160v-160H620v160ZM180-180h160v-160H180v160Zm440 0h160v-160H620v160Z\"/>\n",
       "  </svg>\n",
       "    </button>\n",
       "\n",
       "  <style>\n",
       "    .colab-df-container {\n",
       "      display:flex;\n",
       "      gap: 12px;\n",
       "    }\n",
       "\n",
       "    .colab-df-convert {\n",
       "      background-color: #E8F0FE;\n",
       "      border: none;\n",
       "      border-radius: 50%;\n",
       "      cursor: pointer;\n",
       "      display: none;\n",
       "      fill: #1967D2;\n",
       "      height: 32px;\n",
       "      padding: 0 0 0 0;\n",
       "      width: 32px;\n",
       "    }\n",
       "\n",
       "    .colab-df-convert:hover {\n",
       "      background-color: #E2EBFA;\n",
       "      box-shadow: 0px 1px 2px rgba(60, 64, 67, 0.3), 0px 1px 3px 1px rgba(60, 64, 67, 0.15);\n",
       "      fill: #174EA6;\n",
       "    }\n",
       "\n",
       "    .colab-df-buttons div {\n",
       "      margin-bottom: 4px;\n",
       "    }\n",
       "\n",
       "    [theme=dark] .colab-df-convert {\n",
       "      background-color: #3B4455;\n",
       "      fill: #D2E3FC;\n",
       "    }\n",
       "\n",
       "    [theme=dark] .colab-df-convert:hover {\n",
       "      background-color: #434B5C;\n",
       "      box-shadow: 0px 1px 3px 1px rgba(0, 0, 0, 0.15);\n",
       "      filter: drop-shadow(0px 1px 2px rgba(0, 0, 0, 0.3));\n",
       "      fill: #FFFFFF;\n",
       "    }\n",
       "  </style>\n",
       "\n",
       "    <script>\n",
       "      const buttonEl =\n",
       "        document.querySelector('#df-6fc02133-54d4-42ee-9360-535c67d099e0 button.colab-df-convert');\n",
       "      buttonEl.style.display =\n",
       "        google.colab.kernel.accessAllowed ? 'block' : 'none';\n",
       "\n",
       "      async function convertToInteractive(key) {\n",
       "        const element = document.querySelector('#df-6fc02133-54d4-42ee-9360-535c67d099e0');\n",
       "        const dataTable =\n",
       "          await google.colab.kernel.invokeFunction('convertToInteractive',\n",
       "                                                    [key], {});\n",
       "        if (!dataTable) return;\n",
       "\n",
       "        const docLinkHtml = 'Like what you see? Visit the ' +\n",
       "          '<a target=\"_blank\" href=https://colab.research.google.com/notebooks/data_table.ipynb>data table notebook</a>'\n",
       "          + ' to learn more about interactive tables.';\n",
       "        element.innerHTML = '';\n",
       "        dataTable['output_type'] = 'display_data';\n",
       "        await google.colab.output.renderOutput(dataTable, element);\n",
       "        const docLink = document.createElement('div');\n",
       "        docLink.innerHTML = docLinkHtml;\n",
       "        element.appendChild(docLink);\n",
       "      }\n",
       "    </script>\n",
       "  </div>\n",
       "\n",
       "\n",
       "<div id=\"df-fa56ac26-c2d7-45f2-898e-4c006d36170f\">\n",
       "  <button class=\"colab-df-quickchart\" onclick=\"quickchart('df-fa56ac26-c2d7-45f2-898e-4c006d36170f')\"\n",
       "            title=\"Suggest charts\"\n",
       "            style=\"display:none;\">\n",
       "\n",
       "<svg xmlns=\"http://www.w3.org/2000/svg\" height=\"24px\"viewBox=\"0 0 24 24\"\n",
       "     width=\"24px\">\n",
       "    <g>\n",
       "        <path d=\"M19 3H5c-1.1 0-2 .9-2 2v14c0 1.1.9 2 2 2h14c1.1 0 2-.9 2-2V5c0-1.1-.9-2-2-2zM9 17H7v-7h2v7zm4 0h-2V7h2v10zm4 0h-2v-4h2v4z\"/>\n",
       "    </g>\n",
       "</svg>\n",
       "  </button>\n",
       "\n",
       "<style>\n",
       "  .colab-df-quickchart {\n",
       "      --bg-color: #E8F0FE;\n",
       "      --fill-color: #1967D2;\n",
       "      --hover-bg-color: #E2EBFA;\n",
       "      --hover-fill-color: #174EA6;\n",
       "      --disabled-fill-color: #AAA;\n",
       "      --disabled-bg-color: #DDD;\n",
       "  }\n",
       "\n",
       "  [theme=dark] .colab-df-quickchart {\n",
       "      --bg-color: #3B4455;\n",
       "      --fill-color: #D2E3FC;\n",
       "      --hover-bg-color: #434B5C;\n",
       "      --hover-fill-color: #FFFFFF;\n",
       "      --disabled-bg-color: #3B4455;\n",
       "      --disabled-fill-color: #666;\n",
       "  }\n",
       "\n",
       "  .colab-df-quickchart {\n",
       "    background-color: var(--bg-color);\n",
       "    border: none;\n",
       "    border-radius: 50%;\n",
       "    cursor: pointer;\n",
       "    display: none;\n",
       "    fill: var(--fill-color);\n",
       "    height: 32px;\n",
       "    padding: 0;\n",
       "    width: 32px;\n",
       "  }\n",
       "\n",
       "  .colab-df-quickchart:hover {\n",
       "    background-color: var(--hover-bg-color);\n",
       "    box-shadow: 0 1px 2px rgba(60, 64, 67, 0.3), 0 1px 3px 1px rgba(60, 64, 67, 0.15);\n",
       "    fill: var(--button-hover-fill-color);\n",
       "  }\n",
       "\n",
       "  .colab-df-quickchart-complete:disabled,\n",
       "  .colab-df-quickchart-complete:disabled:hover {\n",
       "    background-color: var(--disabled-bg-color);\n",
       "    fill: var(--disabled-fill-color);\n",
       "    box-shadow: none;\n",
       "  }\n",
       "\n",
       "  .colab-df-spinner {\n",
       "    border: 2px solid var(--fill-color);\n",
       "    border-color: transparent;\n",
       "    border-bottom-color: var(--fill-color);\n",
       "    animation:\n",
       "      spin 1s steps(1) infinite;\n",
       "  }\n",
       "\n",
       "  @keyframes spin {\n",
       "    0% {\n",
       "      border-color: transparent;\n",
       "      border-bottom-color: var(--fill-color);\n",
       "      border-left-color: var(--fill-color);\n",
       "    }\n",
       "    20% {\n",
       "      border-color: transparent;\n",
       "      border-left-color: var(--fill-color);\n",
       "      border-top-color: var(--fill-color);\n",
       "    }\n",
       "    30% {\n",
       "      border-color: transparent;\n",
       "      border-left-color: var(--fill-color);\n",
       "      border-top-color: var(--fill-color);\n",
       "      border-right-color: var(--fill-color);\n",
       "    }\n",
       "    40% {\n",
       "      border-color: transparent;\n",
       "      border-right-color: var(--fill-color);\n",
       "      border-top-color: var(--fill-color);\n",
       "    }\n",
       "    60% {\n",
       "      border-color: transparent;\n",
       "      border-right-color: var(--fill-color);\n",
       "    }\n",
       "    80% {\n",
       "      border-color: transparent;\n",
       "      border-right-color: var(--fill-color);\n",
       "      border-bottom-color: var(--fill-color);\n",
       "    }\n",
       "    90% {\n",
       "      border-color: transparent;\n",
       "      border-bottom-color: var(--fill-color);\n",
       "    }\n",
       "  }\n",
       "</style>\n",
       "\n",
       "  <script>\n",
       "    async function quickchart(key) {\n",
       "      const quickchartButtonEl =\n",
       "        document.querySelector('#' + key + ' button');\n",
       "      quickchartButtonEl.disabled = true;  // To prevent multiple clicks.\n",
       "      quickchartButtonEl.classList.add('colab-df-spinner');\n",
       "      try {\n",
       "        const charts = await google.colab.kernel.invokeFunction(\n",
       "            'suggestCharts', [key], {});\n",
       "      } catch (error) {\n",
       "        console.error('Error during call to suggestCharts:', error);\n",
       "      }\n",
       "      quickchartButtonEl.classList.remove('colab-df-spinner');\n",
       "      quickchartButtonEl.classList.add('colab-df-quickchart-complete');\n",
       "    }\n",
       "    (() => {\n",
       "      let quickchartButtonEl =\n",
       "        document.querySelector('#df-fa56ac26-c2d7-45f2-898e-4c006d36170f button');\n",
       "      quickchartButtonEl.style.display =\n",
       "        google.colab.kernel.accessAllowed ? 'block' : 'none';\n",
       "    })();\n",
       "  </script>\n",
       "</div>\n",
       "\n",
       "    </div>\n",
       "  </div>\n"
      ],
      "text/plain": [
       "                          qid  \\\n",
       "1306102  ffff3778790af9baae76   \n",
       "1306103  ffff3f0a2449ffe4b9ff   \n",
       "1306104  ffff41393389d4206066   \n",
       "1306105  ffff42493fc203cd9532   \n",
       "1306106  ffff48dd47bee89fff79   \n",
       "1306107  ffff5fd051a032f32a39   \n",
       "1306108  ffff6d528040d3888b93   \n",
       "1306109  ffff8776cd30cdc8d7f8   \n",
       "1306110  ffff94d427ade3716cd1   \n",
       "1306111  ffffa382c58368071dc9   \n",
       "1306112  ffffa5b0fa76431c063f   \n",
       "1306113  ffffae5dbda3dc9e9771   \n",
       "1306114  ffffba7c4888798571c1   \n",
       "1306115  ffffc0c7158658a06fd9   \n",
       "1306116  ffffc404da586ac5a08f   \n",
       "1306117  ffffcc4e2331aaf1e41e   \n",
       "1306118  ffffd431801e5a2f4861   \n",
       "1306119  ffffd48fb36b63db010c   \n",
       "1306120  ffffec519fa37cf60c78   \n",
       "1306121  ffffed09fedb5088744a   \n",
       "\n",
       "                                             question_text  target  \n",
       "1306102  What steps can I take to live a normal life if...       0  \n",
       "1306103  Isn't Trump right after all? Why should the US...       1  \n",
       "1306104  Is 33 too late for a career in creative advert...       0  \n",
       "1306105  What is difference between the filteration wor...       0  \n",
       "1306106  If the universe \"popped\" into existence from n...       0  \n",
       "1306107  How does a shared service technology team meas...       0  \n",
       "1306108                    How is DSATM civil engineering?       0  \n",
       "1306109  Do you know any problem that depends solely on...       0  \n",
       "1306110  What are some comic ideas for you Tube videos ...       0  \n",
       "1306111  If you had $10 million of Bitcoin, could you s...       0  \n",
       "1306112                Are you ashamed of being an Indian?       1  \n",
       "1306113  What are the methods to determine fossil ages ...       0  \n",
       "1306114                          What is your story today?       0  \n",
       "1306115  How do I consume 150 gms protein daily both ve...       0  \n",
       "1306116  What are the good career options for a msc che...       0  \n",
       "1306117  What other technical skills do you need as a c...       0  \n",
       "1306118  Does MS in ECE have good job prospects in USA ...       0  \n",
       "1306119                          Is foam insulation toxic?       0  \n",
       "1306120  How can one start a research project based on ...       0  \n",
       "1306121  Who wins in a battle between a Wolverine and a...       0  "
      ]
     },
     "execution_count": 8,
     "metadata": {},
     "output_type": "execute_result"
    }
   ],
   "source": [
    "# Get last 20 entries of dataset\n",
    "\n",
    "data_df.tail(20)"
   ]
  },
  {
   "cell_type": "code",
   "execution_count": 9,
   "metadata": {
    "colab": {
     "base_uri": "https://localhost:8080/",
     "height": 452
    },
    "executionInfo": {
     "elapsed": 418,
     "status": "ok",
     "timestamp": 1711500010557,
     "user": {
      "displayName": "Christopher Camilo",
      "userId": "03470589241533550422"
     },
     "user_tz": 0
    },
    "id": "leRFRWJMocVa",
    "outputId": "58ca3348-71ef-4c64-deb7-c0e828beb502"
   },
   "outputs": [
    {
     "data": {
      "image/png": "[encoded data removed]",
      "text/plain": [
       "<Figure size 640x480 with 1 Axes>"
      ]
     },
     "metadata": {},
     "output_type": "display_data"
    }
   ],
   "source": [
    "# Visualise label distribution\n",
    "\n",
    "data_df.target.plot(kind = \"hist\", title = \"Target distribution\");"
   ]
  },
  {
   "cell_type": "markdown",
   "metadata": {
    "id": "ELjswHcFHfp3"
   },
   "source": [
    "## Task 4: Create tf.data.Datasets for Training and Evaluation"
   ]
  },
  {
   "cell_type": "code",
   "execution_count": 10,
   "metadata": {
    "executionInfo": {
     "elapsed": 2146,
     "status": "ok",
     "timestamp": 1711500196370,
     "user": {
      "displayName": "Christopher Camilo",
      "userId": "03470589241533550422"
     },
     "user_tz": 0
    },
    "id": "fScULIGPwuWk"
   },
   "outputs": [],
   "source": [
    "# Split training and validation data so that the imbalance is preserved\n",
    "\n",
    "train_df, rest = train_test_split(data_df, random_state = 42, train_size = 0.0075, stratify = data_df.target.values)\n",
    "valid_df, _ = train_test_split(rest, random_state = 42, train_size = 0.00075, stratify = rest.target.values)"
   ]
  },
  {
   "cell_type": "code",
   "execution_count": 11,
   "metadata": {
    "colab": {
     "base_uri": "https://localhost:8080/"
    },
    "executionInfo": {
     "elapsed": 119,
     "status": "ok",
     "timestamp": 1711500198395,
     "user": {
      "displayName": "Christopher Camilo",
      "userId": "03470589241533550422"
     },
     "user_tz": 0
    },
    "id": "OumQrFU5XBiU",
    "outputId": "5e516e33-51b5-46dc-fb34-15f2b209c86c"
   },
   "outputs": [
    {
     "data": {
      "text/plain": [
       "((9795, 3), (972, 3))"
      ]
     },
     "execution_count": 11,
     "metadata": {},
     "output_type": "execute_result"
    }
   ],
   "source": [
    "train_df.shape, valid_df.shape"
   ]
  },
  {
   "cell_type": "code",
   "execution_count": 22,
   "metadata": {
    "colab": {
     "base_uri": "https://localhost:8080/"
    },
    "executionInfo": {
     "elapsed": 106,
     "status": "ok",
     "timestamp": 1711504102587,
     "user": {
      "displayName": "Christopher Camilo",
      "userId": "03470589241533550422"
     },
     "user_tz": 0
    },
    "id": "qQYMGT5_qLPX",
    "outputId": "c4c59597-fab9-42e1-c0e4-549ea73a72fb"
   },
   "outputs": [
    {
     "name": "stdout",
     "output_type": "stream",
     "text": [
      "tf.Tensor(b'Why are unhealthy relationships so desirable?', shape=(), dtype=string)\n",
      "tf.Tensor(0, shape=(), dtype=int64)\n"
     ]
    }
   ],
   "source": [
    "# Creating training and validation tensor set\n",
    "\n",
    "with tf.device('/cpu:0'):\n",
    "  train_data = tf.data.Dataset.from_tensor_slices((train_df[\"question_text\"].values, train_df[\"target\"].values)) # get the training data\n",
    "  validation_data = tf.data.Dataset.from_tensor_slices((valid_df[\"question_text\"].values, valid_df[\"target\"].values)) # get the validation data\n",
    "\n",
    "  for text, label in train_data.take(1):\n",
    "    print(text)\n",
    "    print(label)"
   ]
  },
  {
   "cell_type": "markdown",
   "metadata": {
    "id": "e2-ReN88Hvy_"
   },
   "source": [
    "## Task 5: Download a Pre-trained BERT Model from TensorFlow Hub"
   ]
  },
  {
   "cell_type": "code",
   "execution_count": 13,
   "metadata": {
    "executionInfo": {
     "elapsed": 11794,
     "status": "ok",
     "timestamp": 1711501281765,
     "user": {
      "displayName": "Christopher Camilo",
      "userId": "03470589241533550422"
     },
     "user_tz": 0
    },
    "id": "EMb5M86b4-BU"
   },
   "outputs": [],
   "source": [
    "\"\"\"\n",
    "Each line of the dataset is composed of the review text and its label\n",
    "- Data preprocessing consists of transforming text to BERT input features:\n",
    "input_word_ids, input_mask, segment_ids\n",
    "- In the process, tokenizing the text is done with the provided BERT model tokenizer\n",
    "\"\"\"\n",
    "\n",
    "label_list = [0, 1] # Label categories\n",
    "max_seq_length = 128 # maximum length of (token) input sequences\n",
    "train_batch_size = 32 # size of training batch\n",
    "\n",
    "\n",
    "# Get BERT layer and tokenizer:\n",
    "# More details here: https://tfhub.dev/tensorflow/bert_en_uncased_L-12_H-768_A-12/2\n",
    "\n",
    "# import BERT layer\n",
    "bert_layer = hub.KerasLayer(\"https://tfhub.dev/tensorflow/bert_en_uncased_L-12_H-768_A-12/2\", trainable = True) # trainable = True to fine-tune all parameters\n",
    "\n",
    "# get vocabulary file, check if it's case sensitive, then tokenise\n",
    "vocab_file = bert_layer.resolved_object.vocab_file.asset_path.numpy()\n",
    "lower_case_vocab = bert_layer.resolved_object.do_lower_case.numpy()\n",
    "tokeniser = tokenization.FullTokenizer(vocab_file, lower_case_vocab)"
   ]
  },
  {
   "cell_type": "code",
   "execution_count": 14,
   "metadata": {
    "colab": {
     "base_uri": "https://localhost:8080/"
    },
    "executionInfo": {
     "elapsed": 134,
     "status": "ok",
     "timestamp": 1711501389490,
     "user": {
      "displayName": "Christopher Camilo",
      "userId": "03470589241533550422"
     },
     "user_tz": 0
    },
    "id": "wEUezMK-zkkI",
    "outputId": "1e7f98ba-0a38-4782-c18c-073a46bf8c30"
   },
   "outputs": [
    {
     "data": {
      "text/plain": [
       "['hi', '##,', 'how', 'are', 'you', 'doing', '##?']"
      ]
     },
     "execution_count": 14,
     "metadata": {},
     "output_type": "execute_result"
    }
   ],
   "source": [
    "# tokenise sample sentence\n",
    "tokeniser.wordpiece_tokenizer.tokenize(\"hi, how are you doing?\")"
   ]
  },
  {
   "cell_type": "code",
   "execution_count": 15,
   "metadata": {
    "colab": {
     "base_uri": "https://localhost:8080/"
    },
    "executionInfo": {
     "elapsed": 126,
     "status": "ok",
     "timestamp": 1711501507072,
     "user": {
      "displayName": "Christopher Camilo",
      "userId": "03470589241533550422"
     },
     "user_tz": 0
    },
    "id": "5AFsmTO5JSmc",
    "outputId": "b1069f80-8a4a-4b6b-84ad-d813a9f827bb"
   },
   "outputs": [
    {
     "data": {
      "text/plain": [
       "[7632, 29623, 2129, 2024, 2017, 2725, 29632]"
      ]
     },
     "execution_count": 15,
     "metadata": {},
     "output_type": "execute_result"
    }
   ],
   "source": [
    "# Convert tokens to ids\n",
    "tokeniser.convert_tokens_to_ids(tokeniser.wordpiece_tokenizer.tokenize(\"hi, how are you doing?\"))"
   ]
  },
  {
   "cell_type": "markdown",
   "metadata": {
    "id": "9QinzNq6OsP1"
   },
   "source": [
    "## Task 6: Tokenize and Preprocess Text for BERT"
   ]
  },
  {
   "cell_type": "markdown",
   "metadata": {
    "id": "3FTqJ698zZ1e"
   },
   "source": [
    "<div align=\"center\">\n",
    "    <img width=\"512px\" src='https://drive.google.com/uc?id=1-SpKFELnEvBMBqO7h3iypo8q9uUUo96P' />\n",
    "    <p style=\"text-align: center;color:gray\">Figure 2: BERT Tokenizer</p>\n",
    "</div>"
   ]
  },
  {
   "cell_type": "markdown",
   "metadata": {
    "id": "cWYkggYe6HZc"
   },
   "source": [
    "We'll need to transform our data into a format BERT understands. This involves two steps. First, we create InputExamples using `classifier_data_lib`'s constructor `InputExample` provided in the BERT library."
   ]
  },
  {
   "cell_type": "code",
   "execution_count": 16,
   "metadata": {
    "executionInfo": {
     "elapsed": 134,
     "status": "ok",
     "timestamp": 1711503133072,
     "user": {
      "displayName": "Christopher Camilo",
      "userId": "03470589241533550422"
     },
     "user_tz": 0
    },
    "id": "m-21A5aNJM0W"
   },
   "outputs": [],
   "source": [
    "# This provides a function to convert row to input features and label\n",
    "\n",
    "def to_feature(text, label, label_list=label_list, max_seq_length=max_seq_length, tokenizer=tokeniser):\n",
    "\n",
    "  # input example used by BERT to create input features\n",
    "  input_example = classifier_data_lib.InputExample(guid = None, # guid set a None given function only uses one example at a time\n",
    "                                                   text_a = text.numpy(),  # text to be classified\n",
    "                                                   text_b = None, # next sentence prediction is disabled\n",
    "                                                   label = label.numpy())\n",
    "\n",
    "  # get feature object of example imput\n",
    "  input_feature = classifier_data_lib.convert_single_example(0, input_example, label_list, max_seq_length, tokeniser)\n",
    "\n",
    "  # return fields from feature object\n",
    "\n",
    "  return (input_feature.input_ids, input_feature.input_mask, input_feature.segment_ids, input_feature.label_id)\n"
   ]
  },
  {
   "cell_type": "markdown",
   "metadata": {
    "id": "A_HQSsHwWCsK"
   },
   "source": [
    "You want to use [`Dataset.map`](https://www.tensorflow.org/api_docs/python/tf/data/Dataset#map) to apply this function to each element of the dataset. [`Dataset.map`](https://www.tensorflow.org/api_docs/python/tf/data/Dataset#map) runs in graph mode.\n",
    "\n",
    "- Graph tensors do not have a value.\n",
    "- In graph mode you can only use TensorFlow Ops and functions.\n",
    "\n",
    "So you can't `.map` this function directly: You need to wrap it in a [`tf.py_function`](https://www.tensorflow.org/api_docs/python/tf/py_function). The [`tf.py_function`](https://www.tensorflow.org/api_docs/python/tf/py_function) will pass regular tensors (with a value and a `.numpy()` method to access it), to the wrapped python function."
   ]
  },
  {
   "cell_type": "markdown",
   "metadata": {
    "id": "zaNlkKVfWX0Q"
   },
   "source": [
    "## Task 7: Wrap a Python Function into a TensorFlow op for Eager Execution"
   ]
  },
  {
   "cell_type": "code",
   "execution_count": 17,
   "metadata": {
    "executionInfo": {
     "elapsed": 116,
     "status": "ok",
     "timestamp": 1711503194150,
     "user": {
      "displayName": "Christopher Camilo",
      "userId": "03470589241533550422"
     },
     "user_tz": 0
    },
    "id": "AGACBcfCWC2O"
   },
   "outputs": [],
   "source": [
    "def to_feature_map(text, label):\n",
    "\n",
    "  # Wrapper function which maps raw text data to a feature format required by BERT\n",
    "\n",
    "  # Using py_function() to use created function in tf.Dataset (converting graph tensor to regular tensor)\n",
    "  input_ids, input_mask, segment_ids, label_id = tf.py_function(to_feature, inp = [text, label],\n",
    "                                                                Tout = [tf.int32, tf.int32, tf.int32, tf.int32]) # output type\n",
    "  # set shape of returned tensors\n",
    "  input_ids.set_shape([max_seq_length])\n",
    "  input_mask.set_shape([max_seq_length])\n",
    "  segment_ids.set_shape([max_seq_length])\n",
    "  label_id.set_shape([]) # we don't know its shape, so leave it empty\n",
    "\n",
    "  # structure training data into a dictionary structure\n",
    "\n",
    "  x = {\n",
    "      \"input_word_ids\": input_ids,\n",
    "      \"input_mask\" : input_mask,\n",
    "      \"input_type_ids\": segment_ids\n",
    "  }\n",
    "\n",
    "\n",
    "  return (x, label_id)"
   ]
  },
  {
   "cell_type": "markdown",
   "metadata": {
    "id": "dhdO6MjTbtn1"
   },
   "source": [
    "## Task 8: Create a TensorFlow Input Pipeline with `tf.data`"
   ]
  },
  {
   "cell_type": "code",
   "execution_count": 23,
   "metadata": {
    "executionInfo": {
     "elapsed": 115,
     "status": "ok",
     "timestamp": 1711504114539,
     "user": {
      "displayName": "Christopher Camilo",
      "userId": "03470589241533550422"
     },
     "user_tz": 0
    },
    "id": "LHRdiO3dnPNr"
   },
   "outputs": [],
   "source": [
    "with tf.device('/cpu:0'):\n",
    "  # train\n",
    "\n",
    "  train_data = (train_data.map(to_feature_map, # mapping training data to approate structure\n",
    "                               num_parallel_calls = tf.data.experimental.AUTOTUNE) # optimal number of parallel calls\n",
    "                .shuffle(1000) # suffle mapped data\n",
    "                .batch(32, drop_remainder = True) # batch suffled data\n",
    "                .prefetch(tf.data.experimental.AUTOTUNE)) # reduces step time by overlapping preprocessing and model execution\n",
    "\n",
    "  # valid\n",
    "\n",
    "  validation_data = (validation_data.map(to_feature_map, # mapping training data to approate structure\n",
    "                               num_parallel_calls = tf.data.experimental.AUTOTUNE)\n",
    "  .shuffle(1000)\n",
    "  .batch(32, drop_remainder = True)\n",
    "  .prefetch(tf.data.experimental.AUTOTUNE))\n"
   ]
  },
  {
   "cell_type": "markdown",
   "metadata": {
    "id": "KLUWnfx-YDi2"
   },
   "source": [
    "The resulting `tf.data.Datasets` return `(features, labels)` pairs, as expected by [`keras.Model.fit`](https://www.tensorflow.org/api_docs/python/tf/keras/Model#fit):"
   ]
  },
  {
   "cell_type": "code",
   "execution_count": 24,
   "metadata": {
    "colab": {
     "base_uri": "https://localhost:8080/"
    },
    "executionInfo": {
     "elapsed": 110,
     "status": "ok",
     "timestamp": 1711504120246,
     "user": {
      "displayName": "Christopher Camilo",
      "userId": "03470589241533550422"
     },
     "user_tz": 0
    },
    "id": "B0Z2cy9GHQ8x",
    "outputId": "8c1e18a3-4395-46f3-b3a2-8ceaa18a2c4b"
   },
   "outputs": [
    {
     "data": {
      "text/plain": [
       "({'input_word_ids': TensorSpec(shape=(32, 128), dtype=tf.int32, name=None),\n",
       "  'input_mask': TensorSpec(shape=(32, 128), dtype=tf.int32, name=None),\n",
       "  'input_type_ids': TensorSpec(shape=(32, 128), dtype=tf.int32, name=None)},\n",
       " TensorSpec(shape=(32,), dtype=tf.int32, name=None))"
      ]
     },
     "execution_count": 24,
     "metadata": {},
     "output_type": "execute_result"
    }
   ],
   "source": [
    "# train data spec\n",
    "train_data.element_spec"
   ]
  },
  {
   "cell_type": "code",
   "execution_count": 25,
   "metadata": {
    "colab": {
     "base_uri": "https://localhost:8080/"
    },
    "executionInfo": {
     "elapsed": 118,
     "status": "ok",
     "timestamp": 1711504126374,
     "user": {
      "displayName": "Christopher Camilo",
      "userId": "03470589241533550422"
     },
     "user_tz": 0
    },
    "id": "DGAH-ycYOmao",
    "outputId": "07bf26a0-3021-4bc4-a3c7-82ba5a8387fd"
   },
   "outputs": [
    {
     "data": {
      "text/plain": [
       "({'input_word_ids': TensorSpec(shape=(32, 128), dtype=tf.int32, name=None),\n",
       "  'input_mask': TensorSpec(shape=(32, 128), dtype=tf.int32, name=None),\n",
       "  'input_type_ids': TensorSpec(shape=(32, 128), dtype=tf.int32, name=None)},\n",
       " TensorSpec(shape=(32,), dtype=tf.int32, name=None))"
      ]
     },
     "execution_count": 25,
     "metadata": {},
     "output_type": "execute_result"
    }
   ],
   "source": [
    "# valid data spec\n",
    "validation_data.element_spec"
   ]
  },
  {
   "cell_type": "markdown",
   "metadata": {
    "id": "GZxe-7yhPyQe"
   },
   "source": [
    "## Task 9: Add a Classification Head to the BERT Layer"
   ]
  },
  {
   "cell_type": "markdown",
   "metadata": {
    "id": "9THH5V0Dw2HO"
   },
   "source": [
    "<div align=\"center\">\n",
    "    <img width=\"512px\" src='https://drive.google.com/uc?id=1fnJTeJs5HUpz7nix-F9E6EZdgUflqyEu' />\n",
    "    <p style=\"text-align: center;color:gray\">Figure 3: BERT Layer</p>\n",
    "</div>"
   ]
  },
  {
   "cell_type": "code",
   "execution_count": 27,
   "metadata": {
    "executionInfo": {
     "elapsed": 114,
     "status": "ok",
     "timestamp": 1711505308084,
     "user": {
      "displayName": "Christopher Camilo",
      "userId": "03470589241533550422"
     },
     "user_tz": 0
    },
    "id": "G9il4gtlADcp"
   },
   "outputs": [],
   "source": [
    "# Building the model\n",
    "def create_model():\n",
    "  input_word_ids = tf.keras.layers.Input(shape=(max_seq_length,), dtype=tf.int32,\n",
    "                                       name=\"input_word_ids\")\n",
    "  input_mask = tf.keras.layers.Input(shape=(max_seq_length,), dtype=tf.int32,\n",
    "                                   name=\"input_mask\")\n",
    "  input_type_ids = tf.keras.layers.Input(shape=(max_seq_length,), dtype=tf.int32,\n",
    "                                    name=\"input_type_ids\")\n",
    "\n",
    "  pooled_output, sequence_output = bert_layer([input_word_ids, input_mask, input_type_ids])\n",
    "\n",
    "  drop = tf.keras.layers.Dropout(0.4)(pooled_output)\n",
    "  output = tf.keras.layers.Dense(1, activation = \"sigmoid\", name = \"output\")(drop)\n",
    "\n",
    "  # Unify layers\n",
    "  model = tf.keras.Model(\n",
    "      inputs = {\n",
    "          \"input_word_ids\": input_word_ids,\n",
    "          \"input_mask\" : input_mask,\n",
    "          \"input_type_ids\": input_type_ids\n",
    "      },\n",
    "      outputs = output\n",
    "  )\n",
    "\n",
    "  return model"
   ]
  },
  {
   "cell_type": "markdown",
   "metadata": {
    "id": "S6maM-vr7YaJ"
   },
   "source": [
    "## Task 10: Fine-Tune BERT for Text Classification"
   ]
  },
  {
   "cell_type": "code",
   "execution_count": 28,
   "metadata": {
    "colab": {
     "base_uri": "https://localhost:8080/"
    },
    "executionInfo": {
     "elapsed": 815,
     "status": "ok",
     "timestamp": 1711505316479,
     "user": {
      "displayName": "Christopher Camilo",
      "userId": "03470589241533550422"
     },
     "user_tz": 0
    },
    "id": "ptCtiiONsBgo",
    "outputId": "c628e1a3-fd62-4f1b-92e4-44ff2388e3de"
   },
   "outputs": [
    {
     "name": "stdout",
     "output_type": "stream",
     "text": [
      "Model: \"model\"\n",
      "__________________________________________________________________________________________________\n",
      " Layer (type)                Output Shape                 Param #   Connected to                  \n",
      "==================================================================================================\n",
      " input_word_ids (InputLayer  [(None, 128)]                0         []                            \n",
      " )                                                                                                \n",
      "                                                                                                  \n",
      " input_mask (InputLayer)     [(None, 128)]                0         []                            \n",
      "                                                                                                  \n",
      " input_type_ids (InputLayer  [(None, 128)]                0         []                            \n",
      " )                                                                                                \n",
      "                                                                                                  \n",
      " keras_layer (KerasLayer)    [(None, 768),                1094822   ['input_word_ids[0][0]',      \n",
      "                              (None, 128, 768)]           41         'input_mask[0][0]',          \n",
      "                                                                     'input_type_ids[0][0]']      \n",
      "                                                                                                  \n",
      " dropout (Dropout)           (None, 768)                  0         ['keras_layer[0][0]']         \n",
      "                                                                                                  \n",
      " output (Dense)              (None, 1)                    769       ['dropout[0][0]']             \n",
      "                                                                                                  \n",
      "==================================================================================================\n",
      "Total params: 109483010 (417.64 MB)\n",
      "Trainable params: 109483009 (417.64 MB)\n",
      "Non-trainable params: 1 (1.00 Byte)\n",
      "__________________________________________________________________________________________________\n"
     ]
    }
   ],
   "source": [
    "# Creating and compiling the model\n",
    "model = create_model()\n",
    "model.compile(optimizer = tf.keras.optimizers.Adam(learning_rate = 2e-5),\n",
    "              loss = tf.keras.losses.BinaryCrossentropy(),\n",
    "              metrics = [tf.keras.metrics.BinaryAccuracy()])\n",
    "model.summary()"
   ]
  },
  {
   "cell_type": "code",
   "execution_count": 29,
   "metadata": {
    "colab": {
     "base_uri": "https://localhost:8080/",
     "height": 309
    },
    "executionInfo": {
     "elapsed": 282,
     "status": "ok",
     "timestamp": 1711505482014,
     "user": {
      "displayName": "Christopher Camilo",
      "userId": "03470589241533550422"
     },
     "user_tz": 0
    },
    "id": "eT-Popx_rHjJ",
    "outputId": "c0a1ea8c-9238-495a-8437-0a2ca18bf11e"
   },
   "outputs": [
    {
     "data": {
      "image/png": "[encoded data removed]",
      "text/plain": [
       "<IPython.core.display.Image object>"
      ]
     },
     "execution_count": 29,
     "metadata": {},
     "output_type": "execute_result"
    }
   ],
   "source": [
    "tf.keras.utils.plot_model(model = model, show_shapes = True, dpi = 76)"
   ]
  },
  {
   "cell_type": "code",
   "execution_count": null,
   "metadata": {
    "id": "6GJaFnkbMtPL"
   },
   "outputs": [],
   "source": []
  },
  {
   "cell_type": "code",
   "execution_count": 30,
   "metadata": {
    "colab": {
     "base_uri": "https://localhost:8080/"
    },
    "executionInfo": {
     "elapsed": 1119422,
     "status": "ok",
     "timestamp": 1711506740796,
     "user": {
      "displayName": "Christopher Camilo",
      "userId": "03470589241533550422"
     },
     "user_tz": 0
    },
    "id": "OcREcgPUHr9O",
    "outputId": "d3067e07-05e3-4a96-9398-e6c258d05cdb"
   },
   "outputs": [
    {
     "name": "stdout",
     "output_type": "stream",
     "text": [
      "Epoch 1/4\n",
      "306/306 [==============================] - 288s 808ms/step - loss: 0.1762 - binary_accuracy: 0.9383 - val_loss: 0.1330 - val_binary_accuracy: 0.9552\n",
      "Epoch 2/4\n",
      "306/306 [==============================] - 253s 822ms/step - loss: 0.0953 - binary_accuracy: 0.9647 - val_loss: 0.1306 - val_binary_accuracy: 0.9510\n",
      "Epoch 3/4\n",
      "306/306 [==============================] - 258s 840ms/step - loss: 0.0486 - binary_accuracy: 0.9831 - val_loss: 0.1686 - val_binary_accuracy: 0.9583\n",
      "Epoch 4/4\n",
      "306/306 [==============================] - 259s 843ms/step - loss: 0.0251 - binary_accuracy: 0.9908 - val_loss: 0.1747 - val_binary_accuracy: 0.9490\n"
     ]
    }
   ],
   "source": [
    "# Train model\n",
    "\n",
    "epochs = 4\n",
    "history = model.fit(train_data,\n",
    "                    validation_data = validation_data,\n",
    "                    epochs = epochs,\n",
    "                    verbose = 1)"
   ]
  },
  {
   "cell_type": "markdown",
   "metadata": {
    "id": "kNZl1lx_cA5Y"
   },
   "source": [
    "## Task 11: Evaluate the BERT Text Classification Model"
   ]
  },
  {
   "cell_type": "code",
   "execution_count": 32,
   "metadata": {
    "executionInfo": {
     "elapsed": 125,
     "status": "ok",
     "timestamp": 1711506939654,
     "user": {
      "displayName": "Christopher Camilo",
      "userId": "03470589241533550422"
     },
     "user_tz": 0
    },
    "id": "dCjgrUYH_IsE"
   },
   "outputs": [],
   "source": [
    "import matplotlib.pyplot as plt\n",
    "\n",
    "def plot_graphs(history, metric):\n",
    "  plt.plot(history.history[metric])\n",
    "  plt.plot(history.history['val_'+metric], '')\n",
    "  plt.xlabel(\"Epochs\")\n",
    "  plt.ylabel(metric)\n",
    "  plt.legend([metric, 'val_'+metric])\n",
    "  plt.show()"
   ]
  },
  {
   "cell_type": "code",
   "execution_count": 33,
   "metadata": {
    "colab": {
     "base_uri": "https://localhost:8080/",
     "height": 449
    },
    "executionInfo": {
     "elapsed": 291,
     "status": "ok",
     "timestamp": 1711506943391,
     "user": {
      "displayName": "Christopher Camilo",
      "userId": "03470589241533550422"
     },
     "user_tz": 0
    },
    "id": "v6lrFRra_KmA",
    "outputId": "4133cdb6-68a9-4b2e-befe-c7952c2f5ab0"
   },
   "outputs": [
    {
     "data": {
      "image/png": "[encoded data removed]",
      "text/plain": [
       "<Figure size 640x480 with 1 Axes>"
      ]
     },
     "metadata": {},
     "output_type": "display_data"
    }
   ],
   "source": [
    "# plot loss history\n",
    "plot_graphs(history, 'loss')"
   ]
  },
  {
   "cell_type": "code",
   "execution_count": 34,
   "metadata": {
    "colab": {
     "base_uri": "https://localhost:8080/",
     "height": 449
    },
    "executionInfo": {
     "elapsed": 303,
     "status": "ok",
     "timestamp": 1711506995717,
     "user": {
      "displayName": "Christopher Camilo",
      "userId": "03470589241533550422"
     },
     "user_tz": 0
    },
    "id": "opu9neBA_98R",
    "outputId": "a7452672-5945-4e20-aa04-9788c3f87050"
   },
   "outputs": [
    {
     "data": {
      "image/png": "[encoded data removed]",
      "text/plain": [
       "<Figure size 640x480 with 1 Axes>"
      ]
     },
     "metadata": {},
     "output_type": "display_data"
    }
   ],
   "source": [
    "plot_graphs(history, \"binary_accuracy\")"
   ]
  },
  {
   "cell_type": "code",
   "execution_count": 35,
   "metadata": {
    "colab": {
     "base_uri": "https://localhost:8080/"
    },
    "executionInfo": {
     "elapsed": 833,
     "status": "ok",
     "timestamp": 1711507773082,
     "user": {
      "displayName": "Christopher Camilo",
      "userId": "03470589241533550422"
     },
     "user_tz": 0
    },
    "id": "hkhtCCgnUbY6",
    "outputId": "3b5331a9-9ff5-4a72-d13e-6be160014473"
   },
   "outputs": [
    {
     "name": "stdout",
     "output_type": "stream",
     "text": [
      "6/6 [==============================] - 1s 22ms/step\n"
     ]
    }
   ],
   "source": [
    "# Testing with sample data\n",
    "sample_data = [\"Why the US people dislike China?\", \"How can I make sure my parents listen to me?\",\n",
    "               \"What is the greatest prank ever made?\", \"Is there something I should omit when meeting someone I want to date?\",\n",
    "               \"Why are the people so toxic in the internet?\", \"My husband told me a few people tend to sleep with their eyes open. Is it true? And why?\"]\n",
    "test_data = tf.data.Dataset.from_tensor_slices((sample_data, [0]*len(sample_data)))\n",
    "test_data = (test_data.map(to_feature_map).batch(1))\n",
    "preds = model.predict(test_data)\n",
    "threshold = 0.5 # put any value between 0 and 1"
   ]
  },
  {
   "cell_type": "code",
   "execution_count": 36,
   "metadata": {
    "colab": {
     "base_uri": "https://localhost:8080/"
    },
    "executionInfo": {
     "elapsed": 202,
     "status": "ok",
     "timestamp": 1711507778081,
     "user": {
      "displayName": "Christopher Camilo",
      "userId": "03470589241533550422"
     },
     "user_tz": 0
    },
    "id": "K4B8NQBLd9rN",
    "outputId": "64a9d142-e753-46d8-f53f-8bf243803fd6"
   },
   "outputs": [
    {
     "data": {
      "text/plain": [
       "['Insincere', 'Sincere', 'Sincere', 'Sincere', 'Insincere', 'Sincere']"
      ]
     },
     "execution_count": 36,
     "metadata": {},
     "output_type": "execute_result"
    }
   ],
   "source": [
    "[\"Insincere\" if pred >= threshold else \"Sincere\" for pred in preds]"
   ]
  },
  {
   "cell_type": "code",
   "execution_count": null,
   "metadata": {
    "id": "FeVNOGfFJT9O"
   },
   "outputs": [],
   "source": []
  },
  {
   "cell_type": "code",
   "execution_count": null,
   "metadata": {
    "id": "I_YWudFRJT__"
   },
   "outputs": [],
   "source": []
  },
  {
   "cell_type": "code",
   "execution_count": null,
   "metadata": {
    "id": "hENB__IlJUCk"
   },
   "outputs": [],
   "source": []
  },
  {
   "cell_type": "code",
   "execution_count": null,
   "metadata": {
    "id": "wkYpiGrhJUFK"
   },
   "outputs": [],
   "source": []
  },
  {
   "cell_type": "code",
   "execution_count": null,
   "metadata": {
    "id": "iYqbQZJnJUHw"
   },
   "outputs": [],
   "source": []
  },
  {
   "cell_type": "code",
   "execution_count": null,
   "metadata": {
    "id": "aiKuBGgfJUKv"
   },
   "outputs": [],
   "source": []
  }
 ],
 "metadata": {
  "accelerator": "GPU",
  "colab": {
   "gpuType": "T4",
   "provenance": [
    {
     "file_id": "1a5WeC67OaRJhYvxMrZtq9ng0CUIHBwLZ",
     "timestamp": 1711499085476
    },
    {
     "file_id": "1LgAd5WmGZc4kIpmdWJKUe4OqpCHSeeMl",
     "timestamp": 1600765362504
    },
    {
     "file_id": "https://github.com/Alieladi/Bert-tf2/blob/master/bert_movie_reviews.ipynb",
     "timestamp": 1597221881931
    }
   ]
  },
  "kernelspec": {
   "display_name": "Python 3 (ipykernel)",
   "language": "python",
   "name": "python3"
  },
  "language_info": {
   "codemirror_mode": {
    "name": "ipython",
    "version": 3
   },
   "file_extension": ".py",
   "mimetype": "text/x-python",
   "name": "python",
   "nbconvert_exporter": "python",
   "pygments_lexer": "ipython3",
   "version": "3.11.4"
  }
 },
 "nbformat": 4,
 "nbformat_minor": 1
}
